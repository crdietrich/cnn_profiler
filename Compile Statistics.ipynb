{
 "cells": [
  {
   "cell_type": "code",
   "execution_count": 1,
   "metadata": {},
   "outputs": [],
   "source": [
    "import os\n",
    "import io\n",
    "import pstats\n",
    "from contextlib import redirect_stdout\n",
    "\n",
    "import pandas as pd\n",
    "\n",
    "import pstats_parser"
   ]
  },
  {
   "cell_type": "code",
   "execution_count": 2,
   "metadata": {},
   "outputs": [],
   "source": [
    "fps = [\"win10-1080GTX_GPU_B_pstats.txt\",\n",
    "       \"win10-1080GTX_GPU_C_pstats.txt\",\n",
    "       \"win10-1080GTX_GPU_D_pstats.txt\",\n",
    "       \"Pi3B_CPU_A_pstats.txt\",\n",
    "       \"Pi3B_TPU_A_pstats.txt\",\n",
    "       \"Pi3B_TPU_B_pstats.txt\",\n",
    "       \"Pi3B_TPU_C_pstats.txt\",]"
   ]
  },
  {
   "cell_type": "code",
   "execution_count": 3,
   "metadata": {},
   "outputs": [],
   "source": [
    "# use the magic alias current directory\n",
    "# TODO: convert this to a config.py + glob method\n",
    "x = !ls\n",
    "notebook_cwd = x[1].split()[1].replace('>dir', '')"
   ]
  },
  {
   "cell_type": "code",
   "execution_count": 4,
   "metadata": {},
   "outputs": [
    {
     "data": {
      "text/plain": [
       "'C:\\\\Users\\\\colin\\\\code\\\\cnn_profiler'"
      ]
     },
     "execution_count": 4,
     "metadata": {},
     "output_type": "execute_result"
    }
   ],
   "source": [
    "notebook_cwd"
   ]
  },
  {
   "cell_type": "code",
   "execution_count": 5,
   "metadata": {},
   "outputs": [
    {
     "name": "stdout",
     "output_type": "stream",
     "text": [
      "C:\\Users\\colin\\code\\cnn_profiler\\data\\win10-1080GTX_GPU_B_pstats.txt\n",
      "C:\\Users\\colin\\code\\cnn_profiler\\data\\win10-1080GTX_GPU_C_pstats.txt\n",
      "C:\\Users\\colin\\code\\cnn_profiler\\data\\win10-1080GTX_GPU_D_pstats.txt\n",
      "C:\\Users\\colin\\code\\cnn_profiler\\data\\Pi3B_CPU_A_pstats.txt\n",
      "C:\\Users\\colin\\code\\cnn_profiler\\data\\Pi3B_TPU_A_pstats.txt\n",
      "C:\\Users\\colin\\code\\cnn_profiler\\data\\Pi3B_TPU_B_pstats.txt\n",
      "C:\\Users\\colin\\code\\cnn_profiler\\data\\Pi3B_TPU_C_pstats.txt\n"
     ]
    }
   ],
   "source": [
    "data = []\n",
    "for fp in fps:\n",
    "    fp = notebook_cwd + os.path.sep + 'data' + os.path.sep + fp\n",
    "    print(fp)\n",
    "    ps = pstats_parser.PstatsParse(fp)\n",
    "    a = [ps.total_time_min, ps.platform, ps.model_type, ps.run_id,\n",
    "         ps.acc, ps.acc_dog, ps.filepath]\n",
    "    data.append(a)"
   ]
  },
  {
   "cell_type": "code",
   "execution_count": 6,
   "metadata": {},
   "outputs": [
    {
     "data": {
      "text/html": [
       "<div>\n",
       "<style scoped>\n",
       "    .dataframe tbody tr th:only-of-type {\n",
       "        vertical-align: middle;\n",
       "    }\n",
       "\n",
       "    .dataframe tbody tr th {\n",
       "        vertical-align: top;\n",
       "    }\n",
       "\n",
       "    .dataframe thead th {\n",
       "        text-align: right;\n",
       "    }\n",
       "</style>\n",
       "<table border=\"1\" class=\"dataframe\">\n",
       "  <thead>\n",
       "    <tr style=\"text-align: right;\">\n",
       "      <th></th>\n",
       "      <th>time_min</th>\n",
       "      <th>platform</th>\n",
       "      <th>model_type</th>\n",
       "      <th>run_id</th>\n",
       "      <th>acc</th>\n",
       "      <th>acc_dog</th>\n",
       "      <th>filepath</th>\n",
       "    </tr>\n",
       "  </thead>\n",
       "  <tbody>\n",
       "    <tr>\n",
       "      <th>0</th>\n",
       "      <td>5.311887</td>\n",
       "      <td>C:\\Users\\colin\\code\\cnn</td>\n",
       "      <td>profiler\\data\\win10-1080GTX</td>\n",
       "      <td>GPU</td>\n",
       "      <td>0.803897</td>\n",
       "      <td>0.933968</td>\n",
       "      <td>C:\\Users\\colin\\code\\cnn_profiler\\data\\win10-10...</td>\n",
       "    </tr>\n",
       "    <tr>\n",
       "      <th>1</th>\n",
       "      <td>5.049965</td>\n",
       "      <td>C:\\Users\\colin\\code\\cnn</td>\n",
       "      <td>profiler\\data\\win10-1080GTX</td>\n",
       "      <td>GPU</td>\n",
       "      <td>0.803897</td>\n",
       "      <td>0.933968</td>\n",
       "      <td>C:\\Users\\colin\\code\\cnn_profiler\\data\\win10-10...</td>\n",
       "    </tr>\n",
       "    <tr>\n",
       "      <th>2</th>\n",
       "      <td>5.158641</td>\n",
       "      <td>C:\\Users\\colin\\code\\cnn</td>\n",
       "      <td>profiler\\data\\win10-1080GTX</td>\n",
       "      <td>GPU</td>\n",
       "      <td>0.803897</td>\n",
       "      <td>0.933968</td>\n",
       "      <td>C:\\Users\\colin\\code\\cnn_profiler\\data\\win10-10...</td>\n",
       "    </tr>\n",
       "    <tr>\n",
       "      <th>3</th>\n",
       "      <td>259.660233</td>\n",
       "      <td>C:\\Users\\colin\\code\\cnn</td>\n",
       "      <td>profiler\\data\\Pi3B</td>\n",
       "      <td>CPU</td>\n",
       "      <td>0.803897</td>\n",
       "      <td>0.933968</td>\n",
       "      <td>C:\\Users\\colin\\code\\cnn_profiler\\data\\Pi3B_CPU...</td>\n",
       "    </tr>\n",
       "    <tr>\n",
       "      <th>4</th>\n",
       "      <td>10.053311</td>\n",
       "      <td>C:\\Users\\colin\\code\\cnn</td>\n",
       "      <td>profiler\\data\\Pi3B</td>\n",
       "      <td>TPU</td>\n",
       "      <td>0.484184</td>\n",
       "      <td>0.831592</td>\n",
       "      <td>C:\\Users\\colin\\code\\cnn_profiler\\data\\Pi3B_TPU...</td>\n",
       "    </tr>\n",
       "    <tr>\n",
       "      <th>5</th>\n",
       "      <td>10.058083</td>\n",
       "      <td>C:\\Users\\colin\\code\\cnn</td>\n",
       "      <td>profiler\\data\\Pi3B</td>\n",
       "      <td>TPU</td>\n",
       "      <td>0.778242</td>\n",
       "      <td>0.930761</td>\n",
       "      <td>C:\\Users\\colin\\code\\cnn_profiler\\data\\Pi3B_TPU...</td>\n",
       "    </tr>\n",
       "    <tr>\n",
       "      <th>6</th>\n",
       "      <td>10.064357</td>\n",
       "      <td>C:\\Users\\colin\\code\\cnn</td>\n",
       "      <td>profiler\\data\\Pi3B</td>\n",
       "      <td>TPU</td>\n",
       "      <td>0.778242</td>\n",
       "      <td>0.930761</td>\n",
       "      <td>C:\\Users\\colin\\code\\cnn_profiler\\data\\Pi3B_TPU...</td>\n",
       "    </tr>\n",
       "  </tbody>\n",
       "</table>\n",
       "</div>"
      ],
      "text/plain": [
       "     time_min                 platform                   model_type run_id  \\\n",
       "0    5.311887  C:\\Users\\colin\\code\\cnn  profiler\\data\\win10-1080GTX    GPU   \n",
       "1    5.049965  C:\\Users\\colin\\code\\cnn  profiler\\data\\win10-1080GTX    GPU   \n",
       "2    5.158641  C:\\Users\\colin\\code\\cnn  profiler\\data\\win10-1080GTX    GPU   \n",
       "3  259.660233  C:\\Users\\colin\\code\\cnn           profiler\\data\\Pi3B    CPU   \n",
       "4   10.053311  C:\\Users\\colin\\code\\cnn           profiler\\data\\Pi3B    TPU   \n",
       "5   10.058083  C:\\Users\\colin\\code\\cnn           profiler\\data\\Pi3B    TPU   \n",
       "6   10.064357  C:\\Users\\colin\\code\\cnn           profiler\\data\\Pi3B    TPU   \n",
       "\n",
       "        acc   acc_dog                                           filepath  \n",
       "0  0.803897  0.933968  C:\\Users\\colin\\code\\cnn_profiler\\data\\win10-10...  \n",
       "1  0.803897  0.933968  C:\\Users\\colin\\code\\cnn_profiler\\data\\win10-10...  \n",
       "2  0.803897  0.933968  C:\\Users\\colin\\code\\cnn_profiler\\data\\win10-10...  \n",
       "3  0.803897  0.933968  C:\\Users\\colin\\code\\cnn_profiler\\data\\Pi3B_CPU...  \n",
       "4  0.484184  0.831592  C:\\Users\\colin\\code\\cnn_profiler\\data\\Pi3B_TPU...  \n",
       "5  0.778242  0.930761  C:\\Users\\colin\\code\\cnn_profiler\\data\\Pi3B_TPU...  \n",
       "6  0.778242  0.930761  C:\\Users\\colin\\code\\cnn_profiler\\data\\Pi3B_TPU...  "
      ]
     },
     "execution_count": 6,
     "metadata": {},
     "output_type": "execute_result"
    }
   ],
   "source": [
    "cols = [\"time_min\", \"platform\", \"model_type\", \"run_id\", \n",
    "        \"acc\", \"acc_dog\", \"filepath\"]\n",
    "pd.DataFrame(data, columns=cols)"
   ]
  }
 ],
 "metadata": {
  "kernelspec": {
   "display_name": "Python 3",
   "language": "python",
   "name": "python3"
  },
  "language_info": {
   "codemirror_mode": {
    "name": "ipython",
    "version": 3
   },
   "file_extension": ".py",
   "mimetype": "text/x-python",
   "name": "python",
   "nbconvert_exporter": "python",
   "pygments_lexer": "ipython3",
   "version": "3.6.8"
  }
 },
 "nbformat": 4,
 "nbformat_minor": 2
}
